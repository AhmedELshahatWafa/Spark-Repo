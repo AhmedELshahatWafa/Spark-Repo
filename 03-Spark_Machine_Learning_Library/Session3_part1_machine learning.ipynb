{
 "cells": [
  {
   "cell_type": "code",
   "execution_count": 1,
   "id": "6fda8ba9",
   "metadata": {},
   "outputs": [],
   "source": [
    "from pyspark.sql import SparkSession"
   ]
  },
  {
   "cell_type": "code",
   "execution_count": 2,
   "id": "5d241231",
   "metadata": {},
   "outputs": [],
   "source": [
    "spark = SparkSession.builder.getOrCreate()"
   ]
  },
  {
   "cell_type": "code",
   "execution_count": 3,
   "id": "1d152927",
   "metadata": {},
   "outputs": [],
   "source": [
    "filepath = \"housing.csv\""
   ]
  },
  {
   "cell_type": "code",
   "execution_count": 4,
   "id": "8d9c92de",
   "metadata": {},
   "outputs": [],
   "source": [
    "df = spark.read.csv(filepath, header=True, inferSchema=True)"
   ]
  },
  {
   "cell_type": "code",
   "execution_count": 5,
   "id": "6ddd3c91",
   "metadata": {},
   "outputs": [
    {
     "name": "stdout",
     "output_type": "stream",
     "text": [
      "root\n",
      " |-- Suburb: string (nullable = true)\n",
      " |-- Address: string (nullable = true)\n",
      " |-- Rooms: integer (nullable = true)\n",
      " |-- Type: string (nullable = true)\n",
      " |-- Price: integer (nullable = true)\n",
      " |-- Method: string (nullable = true)\n",
      " |-- SellerG: string (nullable = true)\n",
      " |-- Date: string (nullable = true)\n",
      " |-- Distance: string (nullable = true)\n",
      " |-- Postcode: string (nullable = true)\n",
      " |-- Bedroom2: integer (nullable = true)\n",
      " |-- Bathroom: integer (nullable = true)\n",
      " |-- Car: integer (nullable = true)\n",
      " |-- Landsize: integer (nullable = true)\n",
      " |-- BuildingArea: double (nullable = true)\n",
      " |-- YearBuilt: integer (nullable = true)\n",
      " |-- CouncilArea: string (nullable = true)\n",
      " |-- Lattitude: double (nullable = true)\n",
      " |-- Longtitude: double (nullable = true)\n",
      " |-- Regionname: string (nullable = true)\n",
      " |-- Propertycount: string (nullable = true)\n",
      "\n"
     ]
    }
   ],
   "source": [
    "df.printSchema()"
   ]
  },
  {
   "cell_type": "code",
   "execution_count": 6,
   "id": "81a89272",
   "metadata": {},
   "outputs": [
    {
     "name": "stdout",
     "output_type": "stream",
     "text": [
      "+--------+--------+-------+\n",
      "|Bedroom2|Bathroom|  Price|\n",
      "+--------+--------+-------+\n",
      "|       2|       1|   null|\n",
      "|       2|       1|1480000|\n",
      "|       2|       1|1035000|\n",
      "|       3|       2|   null|\n",
      "|       3|       2|1465000|\n",
      "|       3|       2| 850000|\n",
      "|       3|       1|1600000|\n",
      "|       3|       2|   null|\n",
      "|       4|       1|   null|\n",
      "|       3|       2|   null|\n",
      "|       2|       1| 941000|\n",
      "|       4|       2|1876000|\n",
      "|       2|       2|   null|\n",
      "|       6|       2|   null|\n",
      "|       2|       1|1636000|\n",
      "|    null|    null|1000000|\n",
      "|    null|    null| 745000|\n",
      "|       1|       1| 300000|\n",
      "|       3|       1|1097000|\n",
      "|    null|    null| 542000|\n",
      "+--------+--------+-------+\n",
      "only showing top 20 rows\n",
      "\n"
     ]
    }
   ],
   "source": [
    "df.select(\"Bedroom2\",\"Bathroom\",\"Price\").show()"
   ]
  },
  {
   "cell_type": "code",
   "execution_count": 7,
   "id": "e0e452d1",
   "metadata": {},
   "outputs": [],
   "source": [
    "df = df.na.drop()"
   ]
  },
  {
   "cell_type": "code",
   "execution_count": 8,
   "id": "5d5a8195",
   "metadata": {},
   "outputs": [],
   "source": [
    "trainDF, testDF = df.randomSplit([.8,.2], seed= 42)"
   ]
  },
  {
   "cell_type": "code",
   "execution_count": 9,
   "id": "566a4345",
   "metadata": {
    "scrolled": true
   },
   "outputs": [
    {
     "name": "stdout",
     "output_type": "stream",
     "text": [
      "+----------+-------------------+-----+----+-------+------+-------+----------+--------+--------+--------+--------+---+--------+------------+---------+-----------+---------+----------+--------------------+-------------+\n",
      "|    Suburb|            Address|Rooms|Type|  Price|Method|SellerG|      Date|Distance|Postcode|Bedroom2|Bathroom|Car|Landsize|BuildingArea|YearBuilt|CouncilArea|Lattitude|Longtitude|          Regionname|Propertycount|\n",
      "+----------+-------------------+-----+----+-------+------+-------+----------+--------+--------+--------+--------+---+--------+------------+---------+-----------+---------+----------+--------------------+-------------+\n",
      "|Abbotsford| 1/43 Abbotsford St|    2|   u| 505000|    PI| Nelson|27-05-2017|       3|    3067|       2|       1|  1|       0|        38.0|     1970|      Yarra|-37.80206| 145.00015|Northern Metropol...|         4019|\n",
      "|Abbotsford|      10 Valiant St|    2|   h|1097000|     S| Biggin|08-10-2016|     2.5|    3067|       3|       1|  2|     220|        75.0|     1900|      Yarra|  -37.801|  144.9989|Northern Metropol...|         4019|\n",
      "|Abbotsford|123/56 Nicholson St|    2|   u| 750000|     S| Biggin|12-11-2016|     2.5|    3067|       2|       2|  1|       0|        94.0|     2009|      Yarra| -37.8078|  144.9965|Northern Metropol...|         4019|\n",
      "|Abbotsford|       124 Yarra St|    3|   h|1876000|     S| Nelson|07-05-2016|     2.5|    3067|       4|       2|  0|     245|       210.0|     1910|      Yarra| -37.8024|  144.9993|Northern Metropol...|         4019|\n",
      "|Abbotsford|        132 Vere St|    3|   h|1000000|    SP| Biggin|08-04-2017|     2.5|    3067|       3|       1|  0|     198|        98.0|     1900|      Yarra| -37.8025|  144.9939|Northern Metropol...|         4019|\n",
      "+----------+-------------------+-----+----+-------+------+-------+----------+--------+--------+--------+--------+---+--------+------------+---------+-----------+---------+----------+--------------------+-------------+\n",
      "only showing top 5 rows\n",
      "\n"
     ]
    }
   ],
   "source": [
    "trainDF.show(5)"
   ]
  },
  {
   "cell_type": "code",
   "execution_count": 10,
   "id": "6d714a43",
   "metadata": {},
   "outputs": [],
   "source": [
    "# \"Bedroom2\",\"Bathroom\",\"Price\""
   ]
  },
  {
   "cell_type": "code",
   "execution_count": 11,
   "id": "7bdb745e",
   "metadata": {},
   "outputs": [
    {
     "name": "stdout",
     "output_type": "stream",
     "text": [
      "+----------+------------------+-----+----+-------+------+-------+----------+--------+--------+--------+--------+---+--------+------------+---------+-----------+---------+----------+--------------------+-------------+\n",
      "|    Suburb|           Address|Rooms|Type|  Price|Method|SellerG|      Date|Distance|Postcode|Bedroom2|Bathroom|Car|Landsize|BuildingArea|YearBuilt|CouncilArea|Lattitude|Longtitude|          Regionname|Propertycount|\n",
      "+----------+------------------+-----+----+-------+------+-------+----------+--------+--------+--------+--------+---+--------+------------+---------+-----------+---------+----------+--------------------+-------------+\n",
      "|Abbotsford|1/43 Abbotsford St|    2|   u| 505000|    PI| Nelson|27-05-2017|       3|    3067|       2|       1|  1|       0|        38.0|     1970|      Yarra|-37.80206| 145.00015|Northern Metropol...|         4019|\n",
      "|Abbotsford|     10 Valiant St|    2|   h|1097000|     S| Biggin|08-10-2016|     2.5|    3067|       3|       1|  2|     220|        75.0|     1900|      Yarra|  -37.801|  144.9989|Northern Metropol...|         4019|\n",
      "+----------+------------------+-----+----+-------+------+-------+----------+--------+--------+--------+--------+---+--------+------------+---------+-----------+---------+----------+--------------------+-------------+\n",
      "only showing top 2 rows\n",
      "\n"
     ]
    }
   ],
   "source": [
    "trainDF.show(2)"
   ]
  },
  {
   "cell_type": "code",
   "execution_count": 18,
   "id": "3bd42784",
   "metadata": {},
   "outputs": [],
   "source": [
    "from pyspark.ml.feature import VectorAssembler"
   ]
  },
  {
   "cell_type": "code",
   "execution_count": 19,
   "id": "d91400b3",
   "metadata": {},
   "outputs": [],
   "source": [
    "vecAssembler = VectorAssembler(inputCols=[\"Rooms\"], outputCol=\"features\") # Transformer"
   ]
  },
  {
   "cell_type": "code",
   "execution_count": 20,
   "id": "01b9b8e2",
   "metadata": {},
   "outputs": [],
   "source": [
    "vecTrainDF = vecAssembler.transform(trainDF)"
   ]
  },
  {
   "cell_type": "code",
   "execution_count": 21,
   "id": "749ce2c5",
   "metadata": {
    "scrolled": true
   },
   "outputs": [
    {
     "name": "stdout",
     "output_type": "stream",
     "text": [
      "root\n",
      " |-- Suburb: string (nullable = true)\n",
      " |-- Address: string (nullable = true)\n",
      " |-- Rooms: integer (nullable = true)\n",
      " |-- Type: string (nullable = true)\n",
      " |-- Price: integer (nullable = true)\n",
      " |-- Method: string (nullable = true)\n",
      " |-- SellerG: string (nullable = true)\n",
      " |-- Date: string (nullable = true)\n",
      " |-- Distance: string (nullable = true)\n",
      " |-- Postcode: string (nullable = true)\n",
      " |-- Bedroom2: integer (nullable = true)\n",
      " |-- Bathroom: integer (nullable = true)\n",
      " |-- Car: integer (nullable = true)\n",
      " |-- Landsize: integer (nullable = true)\n",
      " |-- BuildingArea: double (nullable = true)\n",
      " |-- YearBuilt: integer (nullable = true)\n",
      " |-- CouncilArea: string (nullable = true)\n",
      " |-- Lattitude: double (nullable = true)\n",
      " |-- Longtitude: double (nullable = true)\n",
      " |-- Regionname: string (nullable = true)\n",
      " |-- Propertycount: string (nullable = true)\n",
      " |-- features: vector (nullable = true)\n",
      "\n"
     ]
    }
   ],
   "source": [
    "vecTrainDF.printSchema()"
   ]
  },
  {
   "cell_type": "code",
   "execution_count": 22,
   "id": "ea37fdb9",
   "metadata": {},
   "outputs": [
    {
     "name": "stdout",
     "output_type": "stream",
     "text": [
      "+-----+--------+\n",
      "|Rooms|features|\n",
      "+-----+--------+\n",
      "|    2|   [2.0]|\n",
      "|    2|   [2.0]|\n",
      "|    2|   [2.0]|\n",
      "|    3|   [3.0]|\n",
      "|    3|   [3.0]|\n",
      "+-----+--------+\n",
      "only showing top 5 rows\n",
      "\n"
     ]
    }
   ],
   "source": [
    "vecTrainDF.select(\"Rooms\",\"features\").show(5)"
   ]
  },
  {
   "cell_type": "code",
   "execution_count": null,
   "id": "1b15497b",
   "metadata": {},
   "outputs": [],
   "source": []
  },
  {
   "cell_type": "code",
   "execution_count": 24,
   "id": "b9767f74",
   "metadata": {
    "scrolled": true
   },
   "outputs": [],
   "source": [
    "#vec2_train.printSchema()"
   ]
  },
  {
   "cell_type": "code",
   "execution_count": 26,
   "id": "5e4165d9",
   "metadata": {},
   "outputs": [],
   "source": [
    "#vec2_train.select(\"features\").show()"
   ]
  },
  {
   "cell_type": "code",
   "execution_count": 27,
   "id": "00c31e60",
   "metadata": {},
   "outputs": [],
   "source": [
    "from pyspark.ml.regression import LinearRegression\n",
    "lr = LinearRegression(featuresCol=\"features\", labelCol= \"Price\")\n",
    "lrModel =  lr.fit(vecTrainDF)\n",
    "vecTestDF = vecAssembler.transform(testDF)\n",
    "predDF = lrModel.transform(vecTestDF)"
   ]
  },
  {
   "cell_type": "code",
   "execution_count": 28,
   "id": "0900def8",
   "metadata": {},
   "outputs": [
    {
     "name": "stdout",
     "output_type": "stream",
     "text": [
      "+-----+------------------+\n",
      "|Rooms|        prediction|\n",
      "+-----+------------------+\n",
      "|    1| 344859.1327814109|\n",
      "|    2| 719317.6125773378|\n",
      "|    3|1093776.0923732645|\n",
      "|    2| 719317.6125773378|\n",
      "|    3|1093776.0923732645|\n",
      "+-----+------------------+\n",
      "only showing top 5 rows\n",
      "\n"
     ]
    }
   ],
   "source": [
    "predDF.select(\"Rooms\",\"prediction\").show(5)"
   ]
  },
  {
   "cell_type": "code",
   "execution_count": 29,
   "id": "0ed2cf60",
   "metadata": {},
   "outputs": [],
   "source": [
    "lr_multi = LinearRegression(featuresCol=\"features\", labelCol= \"Price\")"
   ]
  },
  {
   "cell_type": "code",
   "execution_count": 30,
   "id": "4536a299",
   "metadata": {},
   "outputs": [
    {
     "name": "stdout",
     "output_type": "stream",
     "text": [
      "+-----+--------+-------+\n",
      "|Rooms|Bathroom|  Price|\n",
      "+-----+--------+-------+\n",
      "|    2|       1| 505000|\n",
      "|    2|       1|1097000|\n",
      "+-----+--------+-------+\n",
      "only showing top 2 rows\n",
      "\n"
     ]
    }
   ],
   "source": [
    "vecTrainDF.select(\"Rooms\",\"Bathroom\", \"Price\").show(2)"
   ]
  },
  {
   "cell_type": "code",
   "execution_count": 31,
   "id": "77f6a6cb",
   "metadata": {},
   "outputs": [],
   "source": [
    "vecAssembler2 = VectorAssembler(inputCols=[\"Rooms\", \"Bathroom\"], outputCol=\"features\") # Transformer"
   ]
  },
  {
   "cell_type": "code",
   "execution_count": 32,
   "id": "970aaabe",
   "metadata": {},
   "outputs": [],
   "source": [
    "vec2_train = vecAssembler2.transform(trainDF)"
   ]
  },
  {
   "cell_type": "code",
   "execution_count": 33,
   "id": "a26a17ae",
   "metadata": {},
   "outputs": [],
   "source": [
    "lrModel_multi =  lr_multi.fit(vec2_train)"
   ]
  },
  {
   "cell_type": "code",
   "execution_count": 34,
   "id": "490b4bc2",
   "metadata": {},
   "outputs": [],
   "source": [
    "vec_test_multi = vecAssembler2.transform(testDF)"
   ]
  },
  {
   "cell_type": "code",
   "execution_count": 35,
   "id": "dabd23ff",
   "metadata": {},
   "outputs": [
    {
     "name": "stdout",
     "output_type": "stream",
     "text": [
      "+---------+-------+\n",
      "| features|  Price|\n",
      "+---------+-------+\n",
      "|[1.0,1.0]| 470000|\n",
      "|[2.0,2.0]|1190000|\n",
      "+---------+-------+\n",
      "only showing top 2 rows\n",
      "\n"
     ]
    }
   ],
   "source": [
    "vec_test_multi.select(\"features\",\"Price\").show(2)"
   ]
  },
  {
   "cell_type": "code",
   "execution_count": null,
   "id": "e70bb857",
   "metadata": {},
   "outputs": [],
   "source": []
  },
  {
   "cell_type": "code",
   "execution_count": 36,
   "id": "aad4423c",
   "metadata": {},
   "outputs": [
    {
     "name": "stdout",
     "output_type": "stream",
     "text": [
      "root\n",
      " |-- Suburb: string (nullable = true)\n",
      " |-- Address: string (nullable = true)\n",
      " |-- Rooms: integer (nullable = true)\n",
      " |-- Type: string (nullable = true)\n",
      " |-- Price: integer (nullable = true)\n",
      " |-- Method: string (nullable = true)\n",
      " |-- SellerG: string (nullable = true)\n",
      " |-- Date: string (nullable = true)\n",
      " |-- Distance: string (nullable = true)\n",
      " |-- Postcode: string (nullable = true)\n",
      " |-- Bedroom2: integer (nullable = true)\n",
      " |-- Bathroom: integer (nullable = true)\n",
      " |-- Car: integer (nullable = true)\n",
      " |-- Landsize: integer (nullable = true)\n",
      " |-- BuildingArea: double (nullable = true)\n",
      " |-- YearBuilt: integer (nullable = true)\n",
      " |-- CouncilArea: string (nullable = true)\n",
      " |-- Lattitude: double (nullable = true)\n",
      " |-- Longtitude: double (nullable = true)\n",
      " |-- Regionname: string (nullable = true)\n",
      " |-- Propertycount: string (nullable = true)\n",
      " |-- features: vector (nullable = true)\n",
      " |-- prediction: double (nullable = false)\n",
      "\n"
     ]
    }
   ],
   "source": [
    "lrModel_multi.transform(vec_test_multi).printSchema()"
   ]
  },
  {
   "cell_type": "code",
   "execution_count": 37,
   "id": "7a212e32",
   "metadata": {
    "scrolled": true
   },
   "outputs": [
    {
     "name": "stdout",
     "output_type": "stream",
     "text": [
      "+---------+-----------------+\n",
      "| features|       prediction|\n",
      "+---------+-----------------+\n",
      "|[1.0,1.0]|423807.8790699811|\n",
      "|[2.0,2.0]|950739.7443373943|\n",
      "+---------+-----------------+\n",
      "only showing top 2 rows\n",
      "\n"
     ]
    }
   ],
   "source": [
    "lrModel_multi.transform(vec_test_multi).select(\"features\",\"prediction\").show(2)"
   ]
  },
  {
   "cell_type": "code",
   "execution_count": 38,
   "id": "4e9fed8b",
   "metadata": {},
   "outputs": [],
   "source": [
    "from pyspark.ml import Pipeline"
   ]
  },
  {
   "cell_type": "code",
   "execution_count": 39,
   "id": "487be8c5",
   "metadata": {},
   "outputs": [],
   "source": [
    "pipeline = Pipeline(stages= [vecAssembler,lr])"
   ]
  },
  {
   "cell_type": "code",
   "execution_count": 40,
   "id": "18efe65e",
   "metadata": {},
   "outputs": [],
   "source": [
    "pip_model = pipeline.fit(trainDF)"
   ]
  },
  {
   "cell_type": "code",
   "execution_count": 41,
   "id": "417d7a3d",
   "metadata": {},
   "outputs": [],
   "source": [
    "predicted_pipe = pip_model.transform(testDF)"
   ]
  },
  {
   "cell_type": "code",
   "execution_count": 42,
   "id": "d40e3714",
   "metadata": {},
   "outputs": [
    {
     "name": "stdout",
     "output_type": "stream",
     "text": [
      "+-----+-------+-----------------+\n",
      "|Rooms|  Price|       prediction|\n",
      "+-----+-------+-----------------+\n",
      "|    1| 470000|344859.1327814109|\n",
      "|    2|1190000|719317.6125773378|\n",
      "+-----+-------+-----------------+\n",
      "only showing top 2 rows\n",
      "\n"
     ]
    }
   ],
   "source": [
    "predicted_pipe.select(\"Rooms\",\"Price\",\"prediction\").show(2)"
   ]
  },
  {
   "cell_type": "code",
   "execution_count": 43,
   "id": "108ed33e",
   "metadata": {},
   "outputs": [],
   "source": [
    "pipeline_multi = Pipeline(stages= [vecAssembler2,lr_multi])"
   ]
  },
  {
   "cell_type": "code",
   "execution_count": 44,
   "id": "e96caff8",
   "metadata": {},
   "outputs": [],
   "source": [
    "pip_model_multi = pipeline.fit(trainDF)"
   ]
  },
  {
   "cell_type": "code",
   "execution_count": 45,
   "id": "d867c167",
   "metadata": {},
   "outputs": [],
   "source": [
    "predicted_pipe_multi = pip_model.transform(testDF)"
   ]
  },
  {
   "cell_type": "code",
   "execution_count": 46,
   "id": "5852c559",
   "metadata": {},
   "outputs": [
    {
     "name": "stdout",
     "output_type": "stream",
     "text": [
      "root\n",
      " |-- Suburb: string (nullable = true)\n",
      " |-- Address: string (nullable = true)\n",
      " |-- Rooms: integer (nullable = true)\n",
      " |-- Type: string (nullable = true)\n",
      " |-- Price: integer (nullable = true)\n",
      " |-- Method: string (nullable = true)\n",
      " |-- SellerG: string (nullable = true)\n",
      " |-- Date: string (nullable = true)\n",
      " |-- Distance: string (nullable = true)\n",
      " |-- Postcode: string (nullable = true)\n",
      " |-- Bedroom2: integer (nullable = true)\n",
      " |-- Bathroom: integer (nullable = true)\n",
      " |-- Car: integer (nullable = true)\n",
      " |-- Landsize: integer (nullable = true)\n",
      " |-- BuildingArea: double (nullable = true)\n",
      " |-- YearBuilt: integer (nullable = true)\n",
      " |-- CouncilArea: string (nullable = true)\n",
      " |-- Lattitude: double (nullable = true)\n",
      " |-- Longtitude: double (nullable = true)\n",
      " |-- Regionname: string (nullable = true)\n",
      " |-- Propertycount: string (nullable = true)\n",
      " |-- features: vector (nullable = true)\n",
      " |-- prediction: double (nullable = false)\n",
      "\n"
     ]
    }
   ],
   "source": [
    "predicted_pipe_multi.printSchema()"
   ]
  },
  {
   "cell_type": "code",
   "execution_count": 47,
   "id": "0f2ed855",
   "metadata": {},
   "outputs": [
    {
     "name": "stdout",
     "output_type": "stream",
     "text": [
      "+-----+--------+-------+-----------------+\n",
      "|Rooms|Bathroom|  Price|       prediction|\n",
      "+-----+--------+-------+-----------------+\n",
      "|    1|       1| 470000|344859.1327814109|\n",
      "|    2|       2|1190000|719317.6125773378|\n",
      "+-----+--------+-------+-----------------+\n",
      "only showing top 2 rows\n",
      "\n"
     ]
    }
   ],
   "source": [
    "predicted_pipe_multi.select(\"Rooms\",\"Bathroom\" , \"Price\", \"prediction\").show(2)"
   ]
  },
  {
   "cell_type": "code",
   "execution_count": 48,
   "id": "41e8c749",
   "metadata": {},
   "outputs": [
    {
     "name": "stdout",
     "output_type": "stream",
     "text": [
      "+----------+---------------+-----+----+-------+------+-------+----------+--------+--------+--------+--------+---+--------+------------+---------+-----------+---------+----------+--------------------+-------------+\n",
      "|    Suburb|        Address|Rooms|Type|  Price|Method|SellerG|      Date|Distance|Postcode|Bedroom2|Bathroom|Car|Landsize|BuildingArea|YearBuilt|CouncilArea|Lattitude|Longtitude|          Regionname|Propertycount|\n",
      "+----------+---------------+-----+----+-------+------+-------+----------+--------+--------+--------+--------+---+--------+------------+---------+-----------+---------+----------+--------------------+-------------+\n",
      "|Abbotsford|25 Bloomburg St|    2|   h|1035000|     S| Biggin|04-02-2016|     2.5|    3067|       2|       1|  0|     156|        79.0|     1900|      Yarra| -37.8079|  144.9934|Northern Metropol...|         4019|\n",
      "|Abbotsford|   5 Charles St|    3|   h|1465000|    SP| Biggin|04-03-2017|     2.5|    3067|       3|       2|  0|     134|       150.0|     1900|      Yarra| -37.8093|  144.9944|Northern Metropol...|         4019|\n",
      "+----------+---------------+-----+----+-------+------+-------+----------+--------+--------+--------+--------+---+--------+------------+---------+-----------+---------+----------+--------------------+-------------+\n",
      "only showing top 2 rows\n",
      "\n"
     ]
    }
   ],
   "source": [
    "df.show(2)"
   ]
  },
  {
   "cell_type": "code",
   "execution_count": 49,
   "id": "906fd49e",
   "metadata": {},
   "outputs": [
    {
     "data": {
      "text/plain": [
       "[('Suburb', 'string'),\n",
       " ('Address', 'string'),\n",
       " ('Rooms', 'int'),\n",
       " ('Type', 'string'),\n",
       " ('Price', 'int'),\n",
       " ('Method', 'string'),\n",
       " ('SellerG', 'string'),\n",
       " ('Date', 'string'),\n",
       " ('Distance', 'string'),\n",
       " ('Postcode', 'string'),\n",
       " ('Bedroom2', 'int'),\n",
       " ('Bathroom', 'int'),\n",
       " ('Car', 'int'),\n",
       " ('Landsize', 'int'),\n",
       " ('BuildingArea', 'double'),\n",
       " ('YearBuilt', 'int'),\n",
       " ('CouncilArea', 'string'),\n",
       " ('Lattitude', 'double'),\n",
       " ('Longtitude', 'double'),\n",
       " ('Regionname', 'string'),\n",
       " ('Propertycount', 'string')]"
      ]
     },
     "execution_count": 49,
     "metadata": {},
     "output_type": "execute_result"
    }
   ],
   "source": [
    "trainDF.dtypes"
   ]
  },
  {
   "cell_type": "code",
   "execution_count": 50,
   "id": "0392d9c1",
   "metadata": {},
   "outputs": [],
   "source": [
    "from pyspark.ml.feature import StringIndexer, OneHotEncoder, VectorAssembler"
   ]
  },
  {
   "cell_type": "code",
   "execution_count": 51,
   "id": "be30798c",
   "metadata": {},
   "outputs": [],
   "source": [
    "cat_cols = [c for (c, d) in trainDF.dtypes if d == \"string\" ]  # string columns"
   ]
  },
  {
   "cell_type": "code",
   "execution_count": 52,
   "id": "d2e67ad2",
   "metadata": {},
   "outputs": [],
   "source": [
    "indexed_Col = [col_name + \"_indexed\" for col_name in cat_cols] "
   ]
  },
  {
   "cell_type": "code",
   "execution_count": null,
   "id": "bb9de08b",
   "metadata": {},
   "outputs": [],
   "source": []
  },
  {
   "cell_type": "code",
   "execution_count": 53,
   "id": "093b781b",
   "metadata": {},
   "outputs": [],
   "source": [
    "ohe_Col = [col_name + \"_ohe\" for col_name in cat_cols]   "
   ]
  },
  {
   "cell_type": "code",
   "execution_count": 54,
   "id": "8d4b5888",
   "metadata": {},
   "outputs": [],
   "source": [
    "num_col = [c for (c , d) in trainDF.dtypes if (d == \"int\") | (d == \"double\") &(c != \"Price\")]   "
   ]
  },
  {
   "cell_type": "code",
   "execution_count": 55,
   "id": "e5c7d43e",
   "metadata": {},
   "outputs": [
    {
     "data": {
      "text/plain": [
       "['Suburb_ohe',\n",
       " 'Address_ohe',\n",
       " 'Type_ohe',\n",
       " 'Method_ohe',\n",
       " 'SellerG_ohe',\n",
       " 'Date_ohe',\n",
       " 'Distance_ohe',\n",
       " 'Postcode_ohe',\n",
       " 'CouncilArea_ohe',\n",
       " 'Regionname_ohe',\n",
       " 'Propertycount_ohe',\n",
       " 'Rooms',\n",
       " 'Price',\n",
       " 'Bedroom2',\n",
       " 'Bathroom',\n",
       " 'Car',\n",
       " 'Landsize',\n",
       " 'BuildingArea',\n",
       " 'YearBuilt',\n",
       " 'Lattitude',\n",
       " 'Longtitude']"
      ]
     },
     "execution_count": 55,
     "metadata": {},
     "output_type": "execute_result"
    }
   ],
   "source": [
    "assemb_col = ohe_Col + num_col \n",
    "assemb_col"
   ]
  },
  {
   "cell_type": "code",
   "execution_count": 56,
   "id": "a15495bb",
   "metadata": {},
   "outputs": [],
   "source": [
    "strInd = StringIndexer(inputCols= cat_cols , outputCols= indexed_Col) "
   ]
  },
  {
   "cell_type": "code",
   "execution_count": 57,
   "id": "e8861af4",
   "metadata": {},
   "outputs": [],
   "source": [
    "ohe = OneHotEncoder(inputCols= indexed_Col , outputCols= ohe_Col)"
   ]
  },
  {
   "cell_type": "code",
   "execution_count": 58,
   "id": "05136549",
   "metadata": {},
   "outputs": [],
   "source": [
    "vec_assembler = VectorAssembler(inputCols=assemb_col, outputCol=\"features\")"
   ]
  },
  {
   "cell_type": "code",
   "execution_count": 59,
   "id": "e81d7b6b",
   "metadata": {},
   "outputs": [],
   "source": [
    "lr_pipe = LinearRegression(featuresCol= \"features\", labelCol= \"Price\")"
   ]
  },
  {
   "cell_type": "code",
   "execution_count": 60,
   "id": "9ba18ee4",
   "metadata": {},
   "outputs": [],
   "source": [
    "pipeline =  Pipeline(stages=[strInd , ohe, vec_assembler, lr_pipe])"
   ]
  },
  {
   "cell_type": "code",
   "execution_count": 61,
   "id": "4dcb3ced",
   "metadata": {},
   "outputs": [],
   "source": [
    "lr_pipeline_trained  =  pipeline.fit(trainDF)"
   ]
  },
  {
   "cell_type": "code",
   "execution_count": 62,
   "id": "8861b53b",
   "metadata": {
    "scrolled": false
   },
   "outputs": [
    {
     "name": "stdout",
     "output_type": "stream",
     "text": [
      "+-------+------------------+\n",
      "|Price  |prediction        |\n",
      "+-------+------------------+\n",
      "|505000 |505196.1115161292 |\n",
      "|1097000|1097004.0368161835|\n",
      "|750000 |749987.4301009141 |\n",
      "|1876000|1875947.1418727376|\n",
      "|1000000|1000000.6280348562|\n",
      "+-------+------------------+\n",
      "only showing top 5 rows\n",
      "\n"
     ]
    }
   ],
   "source": [
    "lr_pipeline_trained.transform(trainDF).select(\"Price\",\"prediction\").show(5, truncate= False)"
   ]
  },
  {
   "cell_type": "code",
   "execution_count": null,
   "id": "591752bb",
   "metadata": {},
   "outputs": [],
   "source": []
  },
  {
   "cell_type": "code",
   "execution_count": 63,
   "id": "50194156",
   "metadata": {
    "scrolled": true
   },
   "outputs": [
    {
     "name": "stdout",
     "output_type": "stream",
     "text": [
      "root\n",
      " |-- Suburb: string (nullable = true)\n",
      " |-- Address: string (nullable = true)\n",
      " |-- Rooms: integer (nullable = true)\n",
      " |-- Type: string (nullable = true)\n",
      " |-- Price: integer (nullable = true)\n",
      " |-- Method: string (nullable = true)\n",
      " |-- SellerG: string (nullable = true)\n",
      " |-- Date: string (nullable = true)\n",
      " |-- Distance: string (nullable = true)\n",
      " |-- Postcode: string (nullable = true)\n",
      " |-- Bedroom2: integer (nullable = true)\n",
      " |-- Bathroom: integer (nullable = true)\n",
      " |-- Car: integer (nullable = true)\n",
      " |-- Landsize: integer (nullable = true)\n",
      " |-- BuildingArea: double (nullable = true)\n",
      " |-- YearBuilt: integer (nullable = true)\n",
      " |-- CouncilArea: string (nullable = true)\n",
      " |-- Lattitude: double (nullable = true)\n",
      " |-- Longtitude: double (nullable = true)\n",
      " |-- Regionname: string (nullable = true)\n",
      " |-- Propertycount: string (nullable = true)\n",
      " |-- Regionname_indexed: double (nullable = false)\n",
      " |-- Postcode_indexed: double (nullable = false)\n",
      " |-- Method_indexed: double (nullable = false)\n",
      " |-- Suburb_indexed: double (nullable = false)\n",
      " |-- SellerG_indexed: double (nullable = false)\n",
      " |-- Propertycount_indexed: double (nullable = false)\n",
      " |-- CouncilArea_indexed: double (nullable = false)\n",
      " |-- Distance_indexed: double (nullable = false)\n",
      " |-- Type_indexed: double (nullable = false)\n",
      " |-- Address_indexed: double (nullable = false)\n",
      " |-- Date_indexed: double (nullable = false)\n",
      " |-- Distance_ohe: vector (nullable = true)\n",
      " |-- Regionname_ohe: vector (nullable = true)\n",
      " |-- Method_ohe: vector (nullable = true)\n",
      " |-- Postcode_ohe: vector (nullable = true)\n",
      " |-- Date_ohe: vector (nullable = true)\n",
      " |-- Type_ohe: vector (nullable = true)\n",
      " |-- SellerG_ohe: vector (nullable = true)\n",
      " |-- Address_ohe: vector (nullable = true)\n",
      " |-- CouncilArea_ohe: vector (nullable = true)\n",
      " |-- Suburb_ohe: vector (nullable = true)\n",
      " |-- Propertycount_ohe: vector (nullable = true)\n",
      " |-- features: vector (nullable = true)\n",
      " |-- prediction: double (nullable = false)\n",
      "\n"
     ]
    }
   ],
   "source": [
    "lr_pipeline_trained.transform(testDF).printSchema()"
   ]
  },
  {
   "cell_type": "code",
   "execution_count": null,
   "id": "e71dcd5d",
   "metadata": {},
   "outputs": [],
   "source": []
  },
  {
   "cell_type": "code",
   "execution_count": null,
   "id": "2b48898e",
   "metadata": {},
   "outputs": [],
   "source": []
  },
  {
   "cell_type": "code",
   "execution_count": null,
   "id": "86c138b1",
   "metadata": {},
   "outputs": [],
   "source": []
  },
  {
   "cell_type": "code",
   "execution_count": null,
   "id": "7beab478",
   "metadata": {},
   "outputs": [],
   "source": []
  },
  {
   "cell_type": "code",
   "execution_count": 65,
   "id": "93bceaff",
   "metadata": {
    "scrolled": false
   },
   "outputs": [],
   "source": [
    "#lr_pipeline_trained.transform(testDF).show(2)"
   ]
  },
  {
   "cell_type": "code",
   "execution_count": null,
   "id": "71594c46",
   "metadata": {},
   "outputs": [],
   "source": []
  }
 ],
 "metadata": {
  "kernelspec": {
   "display_name": "Python 3",
   "language": "python",
   "name": "python3"
  },
  "language_info": {
   "codemirror_mode": {
    "name": "ipython",
    "version": 3
   },
   "file_extension": ".py",
   "mimetype": "text/x-python",
   "name": "python",
   "nbconvert_exporter": "python",
   "pygments_lexer": "ipython3",
   "version": "3.8.8"
  }
 },
 "nbformat": 4,
 "nbformat_minor": 5
}
